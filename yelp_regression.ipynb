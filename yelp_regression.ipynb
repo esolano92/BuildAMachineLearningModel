{
 "cells": [
  {
   "cell_type": "markdown",
   "id": "a34a3f39",
   "metadata": {},
   "source": [
    "# Step 1: Explore the Datasets\n",
    "# _______________________________________________\n",
    "### 1.yelp_business.json: establishment data regarding location and attributes for all business in the dataset.\n",
    "### 2. yelp_review.json: Yelp review metadata by business.\n",
    "### 3. yelp_user.json: user profile metadata by business.\n",
    "### 4. yelp_checkin.json: online checkin metadata by business.\n",
    "### 5. yelp_tip.json: tip metadata by business.\n",
    "### 6. yelp_photo.json: photo metadata by business."
   ]
  },
  {
   "cell_type": "code",
   "execution_count": 3,
   "id": "65b96110",
   "metadata": {},
   "outputs": [],
   "source": [
    "import pandas as pd\n",
    "import matplotlib.pyplot as plt\n",
    "from sklearn.linear_model import LinearRegression"
   ]
  },
  {
   "cell_type": "code",
   "execution_count": 4,
   "id": "ec09d52f",
   "metadata": {},
   "outputs": [],
   "source": [
    "#Load all the data sets\n",
    "businesses_df = pd.read_json('datasets/yelp_regression_project/yelp_business.json', lines=True) #mutiple json objects in dataset\n",
    "reviews_df = pd.read_json('datasets/yelp_regression_project/yelp_review.json', lines=True)\n",
    "users_df = pd.read_json('datasets/yelp_regression_project/yelp_user.json', lines=True)\n",
    "checkins_df = pd.read_json('datasets/yelp_regression_project/yelp_checkin.json', lines=True)\n",
    "tips_df = pd.read_json('datasets/yelp_regression_project/yelp_tip.json', lines=True)\n",
    "photos_df = pd.read_json('datasets/yelp_regression_project/yelp_photo.json', lines=True)"
   ]
  },
  {
   "cell_type": "code",
   "execution_count": 10,
   "id": "6d825e87",
   "metadata": {},
   "outputs": [
    {
     "name": "stdout",
     "output_type": "stream",
     "text": [
      "<class 'pandas.core.frame.DataFrame'>\n",
      "RangeIndex: 188593 entries, 0 to 188592\n",
      "Data columns (total 22 columns):\n",
      " #   Column              Non-Null Count   Dtype  \n",
      "---  ------              --------------   -----  \n",
      " 0   address             188593 non-null  object \n",
      " 1   alcohol?            188593 non-null  int64  \n",
      " 2   attributes          162807 non-null  object \n",
      " 3   business_id         188593 non-null  object \n",
      " 4   categories          188052 non-null  object \n",
      " 5   city                188593 non-null  object \n",
      " 6   good_for_kids       188593 non-null  int64  \n",
      " 7   has_bike_parking    188593 non-null  int64  \n",
      " 8   has_wifi            188593 non-null  int64  \n",
      " 9   hours               143791 non-null  object \n",
      " 10  is_open             188593 non-null  int64  \n",
      " 11  latitude            188587 non-null  float64\n",
      " 12  longitude           188587 non-null  float64\n",
      " 13  name                188593 non-null  object \n",
      " 14  neighborhood        188593 non-null  object \n",
      " 15  postal_code         188593 non-null  object \n",
      " 16  price_range         188593 non-null  int64  \n",
      " 17  review_count        188593 non-null  int64  \n",
      " 18  stars               188593 non-null  float64\n",
      " 19  state               188593 non-null  object \n",
      " 20  take_reservations   188593 non-null  int64  \n",
      " 21  takes_credit_cards  188593 non-null  int64  \n",
      "dtypes: float64(3), int64(9), object(10)\n",
      "memory usage: 31.7+ MB\n"
     ]
    }
   ],
   "source": [
    "businesses_df.info()"
   ]
  },
  {
   "cell_type": "code",
   "execution_count": 11,
   "id": "6d831d25",
   "metadata": {},
   "outputs": [
    {
     "name": "stdout",
     "output_type": "stream",
     "text": [
      "<class 'pandas.core.frame.DataFrame'>\n",
      "RangeIndex: 188593 entries, 0 to 188592\n",
      "Data columns (total 7 columns):\n",
      " #   Column                    Non-Null Count   Dtype  \n",
      "---  ------                    --------------   -----  \n",
      " 0   business_id               188593 non-null  object \n",
      " 1   average_review_age        188593 non-null  float64\n",
      " 2   average_review_length     188593 non-null  float64\n",
      " 3   average_review_sentiment  188593 non-null  float64\n",
      " 4   number_funny_votes        188593 non-null  int64  \n",
      " 5   number_cool_votes         188593 non-null  int64  \n",
      " 6   number_useful_votes       188593 non-null  int64  \n",
      "dtypes: float64(3), int64(3), object(1)\n",
      "memory usage: 10.1+ MB\n"
     ]
    }
   ],
   "source": [
    "reviews_df.info()"
   ]
  },
  {
   "cell_type": "code",
   "execution_count": 13,
   "id": "b3585131",
   "metadata": {},
   "outputs": [
    {
     "name": "stdout",
     "output_type": "stream",
     "text": [
      "<class 'pandas.core.frame.DataFrame'>\n",
      "RangeIndex: 188593 entries, 0 to 188592\n",
      "Data columns (total 6 columns):\n",
      " #   Column                      Non-Null Count   Dtype  \n",
      "---  ------                      --------------   -----  \n",
      " 0   business_id                 188593 non-null  object \n",
      " 1   average_number_friends      188593 non-null  float64\n",
      " 2   average_days_on_yelp        188593 non-null  float64\n",
      " 3   average_number_fans         188593 non-null  float64\n",
      " 4   average_review_count        188593 non-null  float64\n",
      " 5   average_number_years_elite  188593 non-null  float64\n",
      "dtypes: float64(5), object(1)\n",
      "memory usage: 8.6+ MB\n"
     ]
    }
   ],
   "source": [
    "users_df.info()"
   ]
  },
  {
   "cell_type": "code",
   "execution_count": 14,
   "id": "185e9e78",
   "metadata": {},
   "outputs": [
    {
     "name": "stdout",
     "output_type": "stream",
     "text": [
      "<class 'pandas.core.frame.DataFrame'>\n",
      "RangeIndex: 157075 entries, 0 to 157074\n",
      "Data columns (total 4 columns):\n",
      " #   Column            Non-Null Count   Dtype \n",
      "---  ------            --------------   ----- \n",
      " 0   business_id       157075 non-null  object\n",
      " 1   time              157075 non-null  object\n",
      " 2   weekday_checkins  157075 non-null  int64 \n",
      " 3   weekend_checkins  157075 non-null  int64 \n",
      "dtypes: int64(2), object(2)\n",
      "memory usage: 4.8+ MB\n"
     ]
    }
   ],
   "source": [
    "checkins_df.info()"
   ]
  },
  {
   "cell_type": "code",
   "execution_count": 15,
   "id": "9e256ef9",
   "metadata": {},
   "outputs": [
    {
     "name": "stdout",
     "output_type": "stream",
     "text": [
      "<class 'pandas.core.frame.DataFrame'>\n",
      "RangeIndex: 121526 entries, 0 to 121525\n",
      "Data columns (total 3 columns):\n",
      " #   Column              Non-Null Count   Dtype  \n",
      "---  ------              --------------   -----  \n",
      " 0   business_id         121526 non-null  object \n",
      " 1   average_tip_length  121526 non-null  float64\n",
      " 2   number_tips         121526 non-null  int64  \n",
      "dtypes: float64(1), int64(1), object(1)\n",
      "memory usage: 2.8+ MB\n"
     ]
    }
   ],
   "source": [
    "tips_df.info()"
   ]
  },
  {
   "cell_type": "code",
   "execution_count": 16,
   "id": "3df87bd5",
   "metadata": {},
   "outputs": [
    {
     "name": "stdout",
     "output_type": "stream",
     "text": [
      "<class 'pandas.core.frame.DataFrame'>\n",
      "RangeIndex: 32976 entries, 0 to 32975\n",
      "Data columns (total 3 columns):\n",
      " #   Column                  Non-Null Count  Dtype  \n",
      "---  ------                  --------------  -----  \n",
      " 0   business_id             32976 non-null  object \n",
      " 1   average_caption_length  32976 non-null  float64\n",
      " 2   number_pics             32976 non-null  int64  \n",
      "dtypes: float64(1), int64(1), object(1)\n",
      "memory usage: 773.0+ KB\n"
     ]
    }
   ],
   "source": [
    "photos_df.info()"
   ]
  },
  {
   "cell_type": "markdown",
   "id": "5ff601cf",
   "metadata": {},
   "source": [
    "# Step 1: Explore the Datasets – Conclusion\n",
    "\n",
    "During the initial exploration of the datasets, several important findings were made:\n",
    "\n",
    "## Key Findings\n",
    "\n",
    "### 1. Shared `business_id` Column Across Datasets\n",
    "- A key relationship between datasets is the `business_id` column, which acts as a primary identifier. \n",
    "- This enables joining the datasets for deeper analysis and integrating information about businesses across multiple dimensions.\n",
    "\n",
    "### 2. Missing Data in Some Columns\n",
    "- Certain columns within the datasets have missing or null values.\n",
    "- This suggests the need for data cleaning or imputation to handle incomplete data effectively before performing any analysis.\n",
    "\n",
    "### 3. Data Types and Formats\n",
    "- The datasets contain a variety of data types, including strings, numbers, and categorical values. \n",
    "- Columns like `categories` or `attributes` may require further transformation or parsing due to their nested or string-encoded structures.\n",
    "\n",
    "### 4. Large File Sizes\n",
    "- The datasets are relatively large, indicating that memory optimization techniques, such as reading in chunks or working with a subset of data, might be necessary during analysis.\n",
    "\n",
    "\n",
    "### 5. Dataset-Specific Observations\n",
    "- **Business Dataset**: Contains essential details about businesses, including name, location, and category. Some businesses lack complete information on attributes like `hours` or `categories`.\n",
    "- **Review Dataset**: Contains user-generated content that can be analyzed for sentiment, trends, and customer feedback patterns. Text fields may need preprocessing.\n",
    "- **Check-in Dataset**: Provides insights into business foot traffic but may have sporadic or incomplete records.\n",
    "- **User Dataset**: Includes user information, useful for understanding reviewer demographics or loyalty trends.\n",
    "\n",
    "### 6. Preliminary Cleaning Needs\n",
    "- Handling missing values, inconsistent data types, and duplicate records will be a necessary step before conducting in-depth analysis.\n",
    "\n"
   ]
  },
  {
   "cell_type": "code",
   "execution_count": null,
   "id": "787c87d6",
   "metadata": {},
   "outputs": [],
   "source": []
  },
  {
   "cell_type": "code",
   "execution_count": null,
   "id": "16312583",
   "metadata": {},
   "outputs": [],
   "source": []
  },
  {
   "cell_type": "code",
   "execution_count": null,
   "id": "3eb7a5fd",
   "metadata": {},
   "outputs": [],
   "source": []
  },
  {
   "cell_type": "code",
   "execution_count": null,
   "id": "00c69a30",
   "metadata": {},
   "outputs": [],
   "source": []
  },
  {
   "cell_type": "code",
   "execution_count": null,
   "id": "082251c4",
   "metadata": {},
   "outputs": [],
   "source": []
  }
 ],
 "metadata": {
  "kernelspec": {
   "display_name": "Python 3 (ipykernel)",
   "language": "python",
   "name": "python3"
  },
  "language_info": {
   "codemirror_mode": {
    "name": "ipython",
    "version": 3
   },
   "file_extension": ".py",
   "mimetype": "text/x-python",
   "name": "python",
   "nbconvert_exporter": "python",
   "pygments_lexer": "ipython3",
   "version": "3.11.4"
  }
 },
 "nbformat": 4,
 "nbformat_minor": 5
}
