{
 "cells": [
  {
   "cell_type": "markdown",
   "id": "a34a3f39",
   "metadata": {},
   "source": [
    "# Step 1: Explore the Datasets\n",
    "# _______________________________________________________________\n",
    "\n",
    "1. `yelp_business.json`: establishment data regarding location and attributes for all business in the dataset.\n",
    "2. `yelp_review.json`: Yelp review metadata by business.\n",
    "3. `yelp_user.json`: user profile metadata by business.\n",
    "4. `yelp_checkin.json`: online checkin metadata by business.\n",
    "5. `yelp_tip.json:` tip metadata by business.\n",
    "6. `yelp_photo.json`: photo metadata by business."
   ]
  },
  {
   "cell_type": "code",
   "execution_count": 137,
   "id": "65b96110",
   "metadata": {},
   "outputs": [],
   "source": [
    "import pandas as pd\n",
    "import matplotlib.pyplot as plt\n",
    "from sklearn.linear_model import LinearRegression\n",
    "from sklearn.model_selection import train_test_split"
   ]
  },
  {
   "cell_type": "code",
   "execution_count": 138,
   "id": "ec09d52f",
   "metadata": {},
   "outputs": [],
   "source": [
    "#Load all the data sets\n",
    "businesses_df = pd.read_json('datasets/yelp_regression_project/yelp_business.json', lines=True) #mutiple json objects in dataset\n",
    "reviews_df = pd.read_json('datasets/yelp_regression_project/yelp_review.json', lines=True)\n",
    "users_df = pd.read_json('datasets/yelp_regression_project/yelp_user.json', lines=True)\n",
    "checkins_df = pd.read_json('datasets/yelp_regression_project/yelp_checkin.json', lines=True)\n",
    "tips_df = pd.read_json('datasets/yelp_regression_project/yelp_tip.json', lines=True)\n",
    "photos_df = pd.read_json('datasets/yelp_regression_project/yelp_photo.json', lines=True)"
   ]
  },
  {
   "cell_type": "code",
   "execution_count": 139,
   "id": "6d825e87",
   "metadata": {},
   "outputs": [
    {
     "name": "stdout",
     "output_type": "stream",
     "text": [
      "<class 'pandas.core.frame.DataFrame'>\n",
      "RangeIndex: 188593 entries, 0 to 188592\n",
      "Data columns (total 22 columns):\n",
      " #   Column              Non-Null Count   Dtype  \n",
      "---  ------              --------------   -----  \n",
      " 0   address             188593 non-null  object \n",
      " 1   alcohol?            188593 non-null  int64  \n",
      " 2   attributes          162807 non-null  object \n",
      " 3   business_id         188593 non-null  object \n",
      " 4   categories          188052 non-null  object \n",
      " 5   city                188593 non-null  object \n",
      " 6   good_for_kids       188593 non-null  int64  \n",
      " 7   has_bike_parking    188593 non-null  int64  \n",
      " 8   has_wifi            188593 non-null  int64  \n",
      " 9   hours               143791 non-null  object \n",
      " 10  is_open             188593 non-null  int64  \n",
      " 11  latitude            188587 non-null  float64\n",
      " 12  longitude           188587 non-null  float64\n",
      " 13  name                188593 non-null  object \n",
      " 14  neighborhood        188593 non-null  object \n",
      " 15  postal_code         188593 non-null  object \n",
      " 16  price_range         188593 non-null  int64  \n",
      " 17  review_count        188593 non-null  int64  \n",
      " 18  stars               188593 non-null  float64\n",
      " 19  state               188593 non-null  object \n",
      " 20  take_reservations   188593 non-null  int64  \n",
      " 21  takes_credit_cards  188593 non-null  int64  \n",
      "dtypes: float64(3), int64(9), object(10)\n",
      "memory usage: 31.7+ MB\n"
     ]
    }
   ],
   "source": [
    "businesses_df.info()"
   ]
  },
  {
   "cell_type": "code",
   "execution_count": 140,
   "id": "6d831d25",
   "metadata": {},
   "outputs": [
    {
     "name": "stdout",
     "output_type": "stream",
     "text": [
      "<class 'pandas.core.frame.DataFrame'>\n",
      "RangeIndex: 188593 entries, 0 to 188592\n",
      "Data columns (total 7 columns):\n",
      " #   Column                    Non-Null Count   Dtype  \n",
      "---  ------                    --------------   -----  \n",
      " 0   business_id               188593 non-null  object \n",
      " 1   average_review_age        188593 non-null  float64\n",
      " 2   average_review_length     188593 non-null  float64\n",
      " 3   average_review_sentiment  188593 non-null  float64\n",
      " 4   number_funny_votes        188593 non-null  int64  \n",
      " 5   number_cool_votes         188593 non-null  int64  \n",
      " 6   number_useful_votes       188593 non-null  int64  \n",
      "dtypes: float64(3), int64(3), object(1)\n",
      "memory usage: 10.1+ MB\n"
     ]
    }
   ],
   "source": [
    "reviews_df.info()"
   ]
  },
  {
   "cell_type": "code",
   "execution_count": 141,
   "id": "b3585131",
   "metadata": {},
   "outputs": [
    {
     "name": "stdout",
     "output_type": "stream",
     "text": [
      "<class 'pandas.core.frame.DataFrame'>\n",
      "RangeIndex: 188593 entries, 0 to 188592\n",
      "Data columns (total 6 columns):\n",
      " #   Column                      Non-Null Count   Dtype  \n",
      "---  ------                      --------------   -----  \n",
      " 0   business_id                 188593 non-null  object \n",
      " 1   average_number_friends      188593 non-null  float64\n",
      " 2   average_days_on_yelp        188593 non-null  float64\n",
      " 3   average_number_fans         188593 non-null  float64\n",
      " 4   average_review_count        188593 non-null  float64\n",
      " 5   average_number_years_elite  188593 non-null  float64\n",
      "dtypes: float64(5), object(1)\n",
      "memory usage: 8.6+ MB\n"
     ]
    }
   ],
   "source": [
    "users_df.info()"
   ]
  },
  {
   "cell_type": "code",
   "execution_count": 142,
   "id": "185e9e78",
   "metadata": {},
   "outputs": [
    {
     "name": "stdout",
     "output_type": "stream",
     "text": [
      "<class 'pandas.core.frame.DataFrame'>\n",
      "RangeIndex: 157075 entries, 0 to 157074\n",
      "Data columns (total 4 columns):\n",
      " #   Column            Non-Null Count   Dtype \n",
      "---  ------            --------------   ----- \n",
      " 0   business_id       157075 non-null  object\n",
      " 1   time              157075 non-null  object\n",
      " 2   weekday_checkins  157075 non-null  int64 \n",
      " 3   weekend_checkins  157075 non-null  int64 \n",
      "dtypes: int64(2), object(2)\n",
      "memory usage: 4.8+ MB\n"
     ]
    }
   ],
   "source": [
    "checkins_df.info()"
   ]
  },
  {
   "cell_type": "code",
   "execution_count": 143,
   "id": "9e256ef9",
   "metadata": {},
   "outputs": [
    {
     "name": "stdout",
     "output_type": "stream",
     "text": [
      "<class 'pandas.core.frame.DataFrame'>\n",
      "RangeIndex: 121526 entries, 0 to 121525\n",
      "Data columns (total 3 columns):\n",
      " #   Column              Non-Null Count   Dtype  \n",
      "---  ------              --------------   -----  \n",
      " 0   business_id         121526 non-null  object \n",
      " 1   average_tip_length  121526 non-null  float64\n",
      " 2   number_tips         121526 non-null  int64  \n",
      "dtypes: float64(1), int64(1), object(1)\n",
      "memory usage: 2.8+ MB\n"
     ]
    }
   ],
   "source": [
    "tips_df.info()"
   ]
  },
  {
   "cell_type": "code",
   "execution_count": 144,
   "id": "3df87bd5",
   "metadata": {},
   "outputs": [
    {
     "name": "stdout",
     "output_type": "stream",
     "text": [
      "<class 'pandas.core.frame.DataFrame'>\n",
      "RangeIndex: 32976 entries, 0 to 32975\n",
      "Data columns (total 3 columns):\n",
      " #   Column                  Non-Null Count  Dtype  \n",
      "---  ------                  --------------  -----  \n",
      " 0   business_id             32976 non-null  object \n",
      " 1   average_caption_length  32976 non-null  float64\n",
      " 2   number_pics             32976 non-null  int64  \n",
      "dtypes: float64(1), int64(1), object(1)\n",
      "memory usage: 773.0+ KB\n"
     ]
    }
   ],
   "source": [
    "photos_df.info()"
   ]
  },
  {
   "cell_type": "markdown",
   "id": "5ff601cf",
   "metadata": {},
   "source": [
    "# Step 1: Explore the Datasets – Conclusion\n",
    "\n",
    "During the initial exploration of the datasets, several important findings were made:\n",
    "\n",
    "## Key Findings\n",
    "\n",
    "### 1. Shared `business_id` Column Across Datasets\n",
    "- A key relationship between datasets is the `business_id` column, which acts as a primary identifier. \n",
    "- This enables joining the datasets for deeper analysis and integrating information about businesses across multiple dimensions.\n",
    "\n",
    "### 2. Missing Data in Some Columns\n",
    "- Certain columns within the datasets have missing or null values.\n",
    "- This suggests the need for data cleaning or imputation to handle incomplete data effectively before performing any analysis.\n",
    "\n",
    "### 3. Data Types and Formats\n",
    "- The datasets contain a variety of data types, including strings, numbers, and categorical values. \n",
    "- Columns like `categories` or `attributes` may require further transformation or parsing due to their nested or string-encoded structures.\n",
    "\n",
    "### 4. Large File Sizes\n",
    "- The datasets are relatively large, indicating that memory optimization techniques, such as reading in chunks or working with a subset of data, might be necessary during analysis.\n",
    "\n",
    "\n",
    "### 5. Dataset-Specific Observations\n",
    "- **Business Dataset**: Contains essential details about businesses, including name, location, and category. Some businesses lack complete information on attributes like `hours` or `categories`.\n",
    "- **Review Dataset**: Contains user-generated content that can be analyzed for sentiment, trends, and customer feedback patterns. Text fields may need preprocessing.\n",
    "- **Check-in Dataset**: Provides insights into business foot traffic but may have sporadic or incomplete records.\n",
    "- **User Dataset**: Includes user information, useful for understanding reviewer demographics or loyalty trends.\n",
    "\n",
    "### 6. Preliminary Cleaning Needs\n",
    "- Handling missing values, inconsistent data types, and duplicate records will be a necessary step before conducting in-depth analysis.\n",
    "\n"
   ]
  },
  {
   "cell_type": "markdown",
   "id": "ae0e330b",
   "metadata": {},
   "source": [
    "# Step 2: Merge the Datasets\n",
    "\n",
    "# __________________________________________________________________\n",
    "\n",
    "In this step I will merge the datasets into a single dataset. This will allow me to analyze the different features with respect to the target variable I am trying to predict."
   ]
  },
  {
   "cell_type": "code",
   "execution_count": 145,
   "id": "16312583",
   "metadata": {},
   "outputs": [],
   "source": [
    "#Create a list of Dataframes that need to be merged.\n",
    "df_list_to_merge = [businesses_df, reviews_df, users_df, checkins_df, tips_df, photos_df]"
   ]
  },
  {
   "cell_type": "code",
   "execution_count": 146,
   "id": "3eb7a5fd",
   "metadata": {},
   "outputs": [],
   "source": [
    "#Create an empty Dataframe that will be used as the single DataFrame.\n",
    "yelp_df = pd.DataFrame()\n",
    "\n",
    "#For loop to merge each DataFrame within the df_list_to_merge\n",
    "for df in df_list_to_merge:\n",
    "    if yelp_df.empty:\n",
    "        yelp_df = df\n",
    "    else:\n",
    "        yelp_df = yelp_df.merge(right=df, how='outer', on='business_id', suffixes=('', '_dup')) # Suffixes checks for duplicate columns"
   ]
  },
  {
   "cell_type": "code",
   "execution_count": 147,
   "id": "510392b2",
   "metadata": {},
   "outputs": [
    {
     "name": "stdout",
     "output_type": "stream",
     "text": [
      "<class 'pandas.core.frame.DataFrame'>\n",
      "Int64Index: 188593 entries, 0 to 188592\n",
      "Data columns (total 40 columns):\n",
      " #   Column                      Non-Null Count   Dtype  \n",
      "---  ------                      --------------   -----  \n",
      " 0   address                     188593 non-null  object \n",
      " 1   alcohol?                    188593 non-null  int64  \n",
      " 2   attributes                  162807 non-null  object \n",
      " 3   business_id                 188593 non-null  object \n",
      " 4   categories                  188052 non-null  object \n",
      " 5   city                        188593 non-null  object \n",
      " 6   good_for_kids               188593 non-null  int64  \n",
      " 7   has_bike_parking            188593 non-null  int64  \n",
      " 8   has_wifi                    188593 non-null  int64  \n",
      " 9   hours                       143791 non-null  object \n",
      " 10  is_open                     188593 non-null  int64  \n",
      " 11  latitude                    188587 non-null  float64\n",
      " 12  longitude                   188587 non-null  float64\n",
      " 13  name                        188593 non-null  object \n",
      " 14  neighborhood                188593 non-null  object \n",
      " 15  postal_code                 188593 non-null  object \n",
      " 16  price_range                 188593 non-null  int64  \n",
      " 17  review_count                188593 non-null  int64  \n",
      " 18  stars                       188593 non-null  float64\n",
      " 19  state                       188593 non-null  object \n",
      " 20  take_reservations           188593 non-null  int64  \n",
      " 21  takes_credit_cards          188593 non-null  int64  \n",
      " 22  average_review_age          188593 non-null  float64\n",
      " 23  average_review_length       188593 non-null  float64\n",
      " 24  average_review_sentiment    188593 non-null  float64\n",
      " 25  number_funny_votes          188593 non-null  int64  \n",
      " 26  number_cool_votes           188593 non-null  int64  \n",
      " 27  number_useful_votes         188593 non-null  int64  \n",
      " 28  average_number_friends      188593 non-null  float64\n",
      " 29  average_days_on_yelp        188593 non-null  float64\n",
      " 30  average_number_fans         188593 non-null  float64\n",
      " 31  average_review_count        188593 non-null  float64\n",
      " 32  average_number_years_elite  188593 non-null  float64\n",
      " 33  time                        157075 non-null  object \n",
      " 34  weekday_checkins            157075 non-null  float64\n",
      " 35  weekend_checkins            157075 non-null  float64\n",
      " 36  average_tip_length          121526 non-null  float64\n",
      " 37  number_tips                 121526 non-null  float64\n",
      " 38  average_caption_length      32976 non-null   float64\n",
      " 39  number_pics                 32976 non-null   float64\n",
      "dtypes: float64(17), int64(12), object(11)\n",
      "memory usage: 59.0+ MB\n"
     ]
    }
   ],
   "source": [
    "yelp_df.info()"
   ]
  },
  {
   "cell_type": "markdown",
   "id": "12b165e1",
   "metadata": {},
   "source": [
    "# Step 2: Merge the Datasets - Conclusion\n",
    "__________________________________________________________________\n",
    "\n",
    "To complete this step, I first created `df_list_to_merge`, a list object to hold all the datasets that needed to be merged. Next, I initialized `yelp_df` as an empty Pandas DataFrame to store the merged results.\n",
    "\n",
    "I then created a `for loop` that iterated through `df_list_to_merge` and merged `yelp_df` with each subsequent DataFrame in the list. Within the `merge` method, I used the following parameters:\n",
    "\n",
    "- **`right=df`**: This ensured that `yelp_df` was consistently merged with the next DataFrame in the list.\n",
    "- **`on='business_id'`**: This specified the `business_id` column as the primary key for the merge operation.\n",
    "- **`how='outer'`**: I chose an outer join to include all rows from each DataFrame, ensuring no data was lost even if there was no match on `business_id`.\n",
    "- **`suffixes=('', '_dup')`**: This allowed me to track potential duplicate columns created during the merge process.\n",
    "\n",
    "The final merged DataFrame, `yelp_df`, now contains 40 columns, representing the combination of information from all the original datasets.\n"
   ]
  },
  {
   "cell_type": "markdown",
   "id": "fa463b37",
   "metadata": {},
   "source": [
    "# Step 3: Prepare and Clean the Data\n",
    "__________________________________________________________________\n",
    "\n",
    "In this step, I will prepare and clean the data for analysis and machine learning. The tasks include:\n",
    "\n",
    "- **Ensuring consistency in data formats**: \n",
    "  Standardizing the format of columns (e.g., date, numerical values, or categorical data).\n",
    "\n",
    "- **Handling missing values**: Addressing any `NaN` or null values by:\n",
    "  - Using the `.fillna()` method to replace `NaN` or missing values with `0`.\n",
    "  - Using the `.dropna()` method to drop rows or columns where values are missing or `NaN`.\n",
    "\n",
    "- **Removing irrelevant columns**: \n",
    "  Dropping columns that do not contribute to analysis or the training of the machine learning model using the `drop()` method.\n",
    "\n",
    "This step ensures that the dataset is clean, consistent, and ready for meaningful analysis and accurate machine learning predictions."
   ]
  },
  {
   "cell_type": "code",
   "execution_count": 148,
   "id": "1e8d54b7",
   "metadata": {},
   "outputs": [],
   "source": [
    "#Create a list of columns to be dropped.\n",
    "irrevelant_columns_to_drop = ['business_id', 'city','name', 'state','address', 'attributes', 'neighborhood','categories', 'hours', 'latitude', 'longitude', 'postal_code', 'time']"
   ]
  },
  {
   "cell_type": "code",
   "execution_count": 149,
   "id": "082251c4",
   "metadata": {},
   "outputs": [],
   "source": [
    "#Use the drop() method to drop all of the unecessary columns.\n",
    "yelp_df = yelp_df.drop(columns=irrevelant_columns_to_drop)"
   ]
  },
  {
   "cell_type": "code",
   "execution_count": 150,
   "id": "f2a2f660",
   "metadata": {},
   "outputs": [
    {
     "name": "stdout",
     "output_type": "stream",
     "text": [
      "<class 'pandas.core.frame.DataFrame'>\n",
      "Int64Index: 188593 entries, 0 to 188592\n",
      "Data columns (total 27 columns):\n",
      " #   Column                      Non-Null Count   Dtype  \n",
      "---  ------                      --------------   -----  \n",
      " 0   alcohol?                    188593 non-null  int64  \n",
      " 1   good_for_kids               188593 non-null  int64  \n",
      " 2   has_bike_parking            188593 non-null  int64  \n",
      " 3   has_wifi                    188593 non-null  int64  \n",
      " 4   is_open                     188593 non-null  int64  \n",
      " 5   price_range                 188593 non-null  int64  \n",
      " 6   review_count                188593 non-null  int64  \n",
      " 7   stars                       188593 non-null  float64\n",
      " 8   take_reservations           188593 non-null  int64  \n",
      " 9   takes_credit_cards          188593 non-null  int64  \n",
      " 10  average_review_age          188593 non-null  float64\n",
      " 11  average_review_length       188593 non-null  float64\n",
      " 12  average_review_sentiment    188593 non-null  float64\n",
      " 13  number_funny_votes          188593 non-null  int64  \n",
      " 14  number_cool_votes           188593 non-null  int64  \n",
      " 15  number_useful_votes         188593 non-null  int64  \n",
      " 16  average_number_friends      188593 non-null  float64\n",
      " 17  average_days_on_yelp        188593 non-null  float64\n",
      " 18  average_number_fans         188593 non-null  float64\n",
      " 19  average_review_count        188593 non-null  float64\n",
      " 20  average_number_years_elite  188593 non-null  float64\n",
      " 21  weekday_checkins            157075 non-null  float64\n",
      " 22  weekend_checkins            157075 non-null  float64\n",
      " 23  average_tip_length          121526 non-null  float64\n",
      " 24  number_tips                 121526 non-null  float64\n",
      " 25  average_caption_length      32976 non-null   float64\n",
      " 26  number_pics                 32976 non-null   float64\n",
      "dtypes: float64(15), int64(12)\n",
      "memory usage: 40.3 MB\n"
     ]
    }
   ],
   "source": [
    "#Check the DataFrame after drop.\n",
    "yelp_df.info()"
   ]
  },
  {
   "cell_type": "code",
   "execution_count": 151,
   "id": "55ffa221",
   "metadata": {},
   "outputs": [
    {
     "data": {
      "text/plain": [
       "alcohol?                      False\n",
       "good_for_kids                 False\n",
       "has_bike_parking              False\n",
       "has_wifi                      False\n",
       "is_open                       False\n",
       "price_range                   False\n",
       "review_count                  False\n",
       "stars                         False\n",
       "take_reservations             False\n",
       "takes_credit_cards            False\n",
       "average_review_age            False\n",
       "average_review_length         False\n",
       "average_review_sentiment      False\n",
       "number_funny_votes            False\n",
       "number_cool_votes             False\n",
       "number_useful_votes           False\n",
       "average_number_friends        False\n",
       "average_days_on_yelp          False\n",
       "average_number_fans           False\n",
       "average_review_count          False\n",
       "average_number_years_elite    False\n",
       "weekday_checkins               True\n",
       "weekend_checkins               True\n",
       "average_tip_length             True\n",
       "number_tips                    True\n",
       "average_caption_length         True\n",
       "number_pics                    True\n",
       "dtype: bool"
      ]
     },
     "execution_count": 151,
     "metadata": {},
     "output_type": "execute_result"
    }
   ],
   "source": [
    "#Identify any columnns with missing or NaN values.\n",
    "yelp_df.isna().any()"
   ]
  },
  {
   "cell_type": "code",
   "execution_count": 152,
   "id": "848ae276",
   "metadata": {},
   "outputs": [],
   "source": [
    "yelp_df = yelp_df.fillna(value=0)"
   ]
  },
  {
   "cell_type": "code",
   "execution_count": 153,
   "id": "f7dac8a5",
   "metadata": {},
   "outputs": [
    {
     "name": "stdout",
     "output_type": "stream",
     "text": [
      "<class 'pandas.core.frame.DataFrame'>\n",
      "Int64Index: 188593 entries, 0 to 188592\n",
      "Data columns (total 27 columns):\n",
      " #   Column                      Non-Null Count   Dtype  \n",
      "---  ------                      --------------   -----  \n",
      " 0   alcohol?                    188593 non-null  int64  \n",
      " 1   good_for_kids               188593 non-null  int64  \n",
      " 2   has_bike_parking            188593 non-null  int64  \n",
      " 3   has_wifi                    188593 non-null  int64  \n",
      " 4   is_open                     188593 non-null  int64  \n",
      " 5   price_range                 188593 non-null  int64  \n",
      " 6   review_count                188593 non-null  int64  \n",
      " 7   stars                       188593 non-null  float64\n",
      " 8   take_reservations           188593 non-null  int64  \n",
      " 9   takes_credit_cards          188593 non-null  int64  \n",
      " 10  average_review_age          188593 non-null  float64\n",
      " 11  average_review_length       188593 non-null  float64\n",
      " 12  average_review_sentiment    188593 non-null  float64\n",
      " 13  number_funny_votes          188593 non-null  int64  \n",
      " 14  number_cool_votes           188593 non-null  int64  \n",
      " 15  number_useful_votes         188593 non-null  int64  \n",
      " 16  average_number_friends      188593 non-null  float64\n",
      " 17  average_days_on_yelp        188593 non-null  float64\n",
      " 18  average_number_fans         188593 non-null  float64\n",
      " 19  average_review_count        188593 non-null  float64\n",
      " 20  average_number_years_elite  188593 non-null  float64\n",
      " 21  weekday_checkins            188593 non-null  float64\n",
      " 22  weekend_checkins            188593 non-null  float64\n",
      " 23  average_tip_length          188593 non-null  float64\n",
      " 24  number_tips                 188593 non-null  float64\n",
      " 25  average_caption_length      188593 non-null  float64\n",
      " 26  number_pics                 188593 non-null  float64\n",
      "dtypes: float64(15), int64(12)\n",
      "memory usage: 40.3 MB\n"
     ]
    }
   ],
   "source": [
    "yelp_df.info()"
   ]
  },
  {
   "cell_type": "markdown",
   "id": "7dca48da",
   "metadata": {},
   "source": [
    "# Step 3: Prepare and Clean the Data - Conclusion\n",
    "\n",
    "To complete this step, I began by identifying columns in the dataset that were unnecessary for the machine learning model. I created a list object called `irrelevant_columns_to_drop` and added the labels of these columns. The columns I decided to drop were:\n",
    "\n",
    "- **`address`**: This column was unnecessary because physical address information does not contribute to the predictive power of the model.\n",
    "- **`attributes`**: This column contained detailed metadata that was either redundant or irrelevant for the problem at hand.\n",
    "- **`neighborhood`**: Similar to `address`, this data was not essential for the analysis.\n",
    "- **`categories`**: Although informative, this column was excluded due to the high cardinality and potential complexity it added to the model.\n",
    "- **`hours`**: Operational hours were excluded because they are unlikely to significantly impact the model's outcome.\n",
    "- **`latitude`** and **`longitude`**: These were removed as they primarily represent location data, which was not relevant for this analysis.\n",
    "- **`postal_code`**: This column was omitted for the same reason as `latitude` and `longitude`.\n",
    "- **`time`**: This data was not pertinent to the model's purpose.\n",
    "\n",
    "After dropping the above columns, I checked the dataset for missing values using the `.isna()` method. This method helped me identify columns with null values, and the `.any()` method provided a boolean series for a quick overview.\n",
    "\n",
    "Finally, I handled the missing values in the dataset using the `.fillna(value=0)` method. This step ensured that all missing values were replaced with `0`, maintaining a consistent and clean dataset for further analysis.\n"
   ]
  },
  {
   "cell_type": "markdown",
   "id": "77b767e1",
   "metadata": {},
   "source": [
    "# Step 4: Correlation Analysis and Feature Selection\n",
    "\n",
    "In this step I will investigate some of the different features in the dataset and see how they best correlate with the target varible (`stars`)."
   ]
  },
  {
   "cell_type": "code",
   "execution_count": 154,
   "id": "5f1206d3",
   "metadata": {},
   "outputs": [],
   "source": [
    "# Create a correlation DataFrame \n",
    "correlation_df = yelp_df.corr()"
   ]
  },
  {
   "cell_type": "code",
   "execution_count": 155,
   "id": "c1eb762c",
   "metadata": {},
   "outputs": [
    {
     "data": {
      "text/plain": [
       "stars                         1.000000\n",
       "average_review_sentiment      0.782187\n",
       "has_bike_parking              0.068084\n",
       "is_open                       0.051913\n",
       "number_cool_votes             0.043375\n",
       "takes_credit_cards            0.037748\n",
       "review_count                  0.032413\n",
       "number_tips                   0.014038\n",
       "weekend_checkins              0.007863\n",
       "weekday_checkins              0.004130\n",
       "number_pics                   0.001727\n",
       "number_funny_votes            0.001320\n",
       "average_caption_length        0.000040\n",
       "number_useful_votes          -0.000066\n",
       "average_number_friends       -0.007629\n",
       "take_reservations            -0.024486\n",
       "good_for_kids                -0.030382\n",
       "average_number_fans          -0.031141\n",
       "average_days_on_yelp         -0.038061\n",
       "has_wifi                     -0.039857\n",
       "alcohol?                     -0.043332\n",
       "price_range                  -0.052565\n",
       "average_tip_length           -0.052899\n",
       "average_number_years_elite   -0.064419\n",
       "average_review_count         -0.066572\n",
       "average_review_age           -0.125645\n",
       "average_review_length        -0.277081\n",
       "Name: stars, dtype: float64"
      ]
     },
     "execution_count": 155,
     "metadata": {},
     "output_type": "execute_result"
    }
   ],
   "source": [
    "# Extract the stars columnn and sort the values in descending order.\n",
    "correlation_df['stars'].sort_values(ascending=False)"
   ]
  },
  {
   "cell_type": "markdown",
   "id": "538b6496",
   "metadata": {},
   "source": [
    "# Step 4: Correlation Analysis and Feature Selection - Conclusion\n",
    "\n",
    "In this step, I determined that the strongest feature correlated with the target variable (`stars`) is **`average_review_sentiment`**, with a correlation coefficient of **0.782**. This strong positive relationship indicates that this feature will likely be a key predictor in the machine learning model.\n"
   ]
  },
  {
   "cell_type": "markdown",
   "id": "5866a91f",
   "metadata": {},
   "source": [
    "# Step 5: Split Data into Training and Testing Sets\n",
    "\n",
    "In this step I will split my data into training and testing sets to evaluate the performance of my machine learning model."
   ]
  },
  {
   "cell_type": "code",
   "execution_count": 231,
   "id": "acfcc770",
   "metadata": {},
   "outputs": [],
   "source": [
    "# Create multiple subsets\n",
    "strongest_corr = ['average_review_sentiment'] # Score .61 both\n",
    "all_columns = [col for col in yelp_df.columns if col != 'stars'] # Score .68 and .67\n",
    "all_postive_corr = ['average_review_sentiment', 'has_bike_parking', \n",
    "                    'is_open', 'number_cool_votes', 'takes_credit_cards', \n",
    "                    'review_count', 'number_tips', 'weekend_checkins', 'weekday_checkins',\n",
    "                   'number_pics', 'number_funny_votes'] # Score .62 both\n",
    "all_negative_corr = ['take_reservations', 'good_for_kids', 'average_number_fans', 'average_days_on_yelp',\n",
    "                    'has_wifi', 'alcohol?', 'price_range', 'average_tip_length', 'average_review_count',\n",
    "                    'average_review_age', 'average_review_length'] # Score .11 and .10\n"
   ]
  },
  {
   "cell_type": "code",
   "execution_count": 233,
   "id": "5df0ef15",
   "metadata": {},
   "outputs": [],
   "source": [
    "# Delcare the features (independent varibale).\n",
    "features = yelp_df[all_negative_corr]"
   ]
  },
  {
   "cell_type": "code",
   "execution_count": 234,
   "id": "0b249b2d",
   "metadata": {},
   "outputs": [],
   "source": [
    "# Declare trhe tagret (dependent variable).\n",
    "target = yelp_df['stars']"
   ]
  },
  {
   "cell_type": "code",
   "execution_count": 235,
   "id": "0fcbe746",
   "metadata": {},
   "outputs": [],
   "source": [
    "# Use the train_test_split method to split the data into training and testing sets.\n",
    "x_train, x_test, y_train, y_test = train_test_split(features, target, train_size=0.8, test_size=0.2, random_state=1)"
   ]
  },
  {
   "cell_type": "code",
   "execution_count": 236,
   "id": "67b121d6",
   "metadata": {},
   "outputs": [
    {
     "name": "stdout",
     "output_type": "stream",
     "text": [
      "The x_train shape: (150874, 11)\n",
      "The x_test shape: (37719, 11)\n"
     ]
    }
   ],
   "source": [
    "print(f'The x_train shape: {x_train.shape}')\n",
    "print(f'The x_test shape: {x_test.shape}')"
   ]
  },
  {
   "cell_type": "markdown",
   "id": "f9f6fe4d",
   "metadata": {},
   "source": [
    "# Step 5: Split Data into Training and Testing Sets - Conclusion\n",
    "\n",
    "In this step, I successfully split the dataset into training and testing sets using scikit-learn's `train_test_split` function. The data was divided with 80% allocated for training and 20% for testing, ensuring a good balance for model evaluation. \n",
    "\n",
    "The following configurations were used:\n",
    "- **Feature (`X`)**: The independent variable `average_review_sentiment`.\n",
    "- **Target (`y`)**: The dependent variable `stars`.\n",
    "- **Test size**: 20% of the dataset was reserved for testing.\n",
    "- **Random state**: A fixed value of `1` was used to ensure reproducibility.\n",
    "\n",
    "After splitting:\n",
    "- The training set contains **150,874 samples** for training the model.\n",
    "- The testing set contains **37,719 samples** for evaluating the model.\n",
    "\n",
    "This split ensures that the model will have enough data to learn patterns while also being tested on unseen data to assess its performance.\n"
   ]
  },
  {
   "cell_type": "markdown",
   "id": "b25c413c",
   "metadata": {},
   "source": [
    "# Step 6: Train the Machine Learning Model\n",
    "\n",
    "In this step I will use the training sets to train a linear regression model."
   ]
  },
  {
   "cell_type": "code",
   "execution_count": 237,
   "id": "e18e01f2",
   "metadata": {},
   "outputs": [],
   "source": [
    "# Create an instance of the LinearRegression class\n",
    "linear_regression_model = LinearRegression()"
   ]
  },
  {
   "cell_type": "code",
   "execution_count": 238,
   "id": "79c4b3ca",
   "metadata": {},
   "outputs": [
    {
     "data": {
      "text/html": [
       "<style>#sk-container-id-13 {color: black;}#sk-container-id-13 pre{padding: 0;}#sk-container-id-13 div.sk-toggleable {background-color: white;}#sk-container-id-13 label.sk-toggleable__label {cursor: pointer;display: block;width: 100%;margin-bottom: 0;padding: 0.3em;box-sizing: border-box;text-align: center;}#sk-container-id-13 label.sk-toggleable__label-arrow:before {content: \"▸\";float: left;margin-right: 0.25em;color: #696969;}#sk-container-id-13 label.sk-toggleable__label-arrow:hover:before {color: black;}#sk-container-id-13 div.sk-estimator:hover label.sk-toggleable__label-arrow:before {color: black;}#sk-container-id-13 div.sk-toggleable__content {max-height: 0;max-width: 0;overflow: hidden;text-align: left;background-color: #f0f8ff;}#sk-container-id-13 div.sk-toggleable__content pre {margin: 0.2em;color: black;border-radius: 0.25em;background-color: #f0f8ff;}#sk-container-id-13 input.sk-toggleable__control:checked~div.sk-toggleable__content {max-height: 200px;max-width: 100%;overflow: auto;}#sk-container-id-13 input.sk-toggleable__control:checked~label.sk-toggleable__label-arrow:before {content: \"▾\";}#sk-container-id-13 div.sk-estimator input.sk-toggleable__control:checked~label.sk-toggleable__label {background-color: #d4ebff;}#sk-container-id-13 div.sk-label input.sk-toggleable__control:checked~label.sk-toggleable__label {background-color: #d4ebff;}#sk-container-id-13 input.sk-hidden--visually {border: 0;clip: rect(1px 1px 1px 1px);clip: rect(1px, 1px, 1px, 1px);height: 1px;margin: -1px;overflow: hidden;padding: 0;position: absolute;width: 1px;}#sk-container-id-13 div.sk-estimator {font-family: monospace;background-color: #f0f8ff;border: 1px dotted black;border-radius: 0.25em;box-sizing: border-box;margin-bottom: 0.5em;}#sk-container-id-13 div.sk-estimator:hover {background-color: #d4ebff;}#sk-container-id-13 div.sk-parallel-item::after {content: \"\";width: 100%;border-bottom: 1px solid gray;flex-grow: 1;}#sk-container-id-13 div.sk-label:hover label.sk-toggleable__label {background-color: #d4ebff;}#sk-container-id-13 div.sk-serial::before {content: \"\";position: absolute;border-left: 1px solid gray;box-sizing: border-box;top: 0;bottom: 0;left: 50%;z-index: 0;}#sk-container-id-13 div.sk-serial {display: flex;flex-direction: column;align-items: center;background-color: white;padding-right: 0.2em;padding-left: 0.2em;position: relative;}#sk-container-id-13 div.sk-item {position: relative;z-index: 1;}#sk-container-id-13 div.sk-parallel {display: flex;align-items: stretch;justify-content: center;background-color: white;position: relative;}#sk-container-id-13 div.sk-item::before, #sk-container-id-13 div.sk-parallel-item::before {content: \"\";position: absolute;border-left: 1px solid gray;box-sizing: border-box;top: 0;bottom: 0;left: 50%;z-index: -1;}#sk-container-id-13 div.sk-parallel-item {display: flex;flex-direction: column;z-index: 1;position: relative;background-color: white;}#sk-container-id-13 div.sk-parallel-item:first-child::after {align-self: flex-end;width: 50%;}#sk-container-id-13 div.sk-parallel-item:last-child::after {align-self: flex-start;width: 50%;}#sk-container-id-13 div.sk-parallel-item:only-child::after {width: 0;}#sk-container-id-13 div.sk-dashed-wrapped {border: 1px dashed gray;margin: 0 0.4em 0.5em 0.4em;box-sizing: border-box;padding-bottom: 0.4em;background-color: white;}#sk-container-id-13 div.sk-label label {font-family: monospace;font-weight: bold;display: inline-block;line-height: 1.2em;}#sk-container-id-13 div.sk-label-container {text-align: center;}#sk-container-id-13 div.sk-container {/* jupyter's `normalize.less` sets `[hidden] { display: none; }` but bootstrap.min.css set `[hidden] { display: none !important; }` so we also need the `!important` here to be able to override the default hidden behavior on the sphinx rendered scikit-learn.org. See: https://github.com/scikit-learn/scikit-learn/issues/21755 */display: inline-block !important;position: relative;}#sk-container-id-13 div.sk-text-repr-fallback {display: none;}</style><div id=\"sk-container-id-13\" class=\"sk-top-container\"><div class=\"sk-text-repr-fallback\"><pre>LinearRegression()</pre><b>In a Jupyter environment, please rerun this cell to show the HTML representation or trust the notebook. <br />On GitHub, the HTML representation is unable to render, please try loading this page with nbviewer.org.</b></div><div class=\"sk-container\" hidden><div class=\"sk-item\"><div class=\"sk-estimator sk-toggleable\"><input class=\"sk-toggleable__control sk-hidden--visually\" id=\"sk-estimator-id-13\" type=\"checkbox\" checked><label for=\"sk-estimator-id-13\" class=\"sk-toggleable__label sk-toggleable__label-arrow\">LinearRegression</label><div class=\"sk-toggleable__content\"><pre>LinearRegression()</pre></div></div></div></div></div>"
      ],
      "text/plain": [
       "LinearRegression()"
      ]
     },
     "execution_count": 238,
     "metadata": {},
     "output_type": "execute_result"
    }
   ],
   "source": [
    "# Use the fit method to determine the line of best fit. \n",
    "linear_regression_model.fit(x_train, y_train)"
   ]
  },
  {
   "cell_type": "code",
   "execution_count": 239,
   "id": "95122eae",
   "metadata": {},
   "outputs": [
    {
     "name": "stdout",
     "output_type": "stream",
     "text": [
      "The score for x_train and y_train is: 0.11078060021599001\n",
      "The score for x_test and y_test is: 0.108406728615283\n"
     ]
    }
   ],
   "source": [
    "print(f'The score for x_train and y_train is: {linear_regression_model.score(x_train, y_train)}')\n",
    "print(f'The score for x_test and y_test is: {linear_regression_model.score(x_test, y_test)}')"
   ]
  },
  {
   "cell_type": "code",
   "execution_count": 197,
   "id": "a49fc9e1",
   "metadata": {},
   "outputs": [
    {
     "name": "stdout",
     "output_type": "stream",
     "text": [
      "The coefficients are: [ 2.33541795e+00 -7.01736328e-02  2.66719753e-01  7.10374379e-04\n",
      " -2.07473943e-02 -7.47635951e-05 -1.48526434e-03 -6.60904440e-05\n",
      "  6.62435199e-05 -3.91439279e-03 -2.04917665e-04]\n",
      "The intercept is: 2.1592261203473306\n"
     ]
    }
   ],
   "source": [
    "print(f'The coefficients are: {linear_regression_model.coef_}')\n",
    "print(f'The intercept is: {linear_regression_model.intercept_}')"
   ]
  },
  {
   "cell_type": "code",
   "execution_count": 198,
   "id": "ae7cc95f",
   "metadata": {},
   "outputs": [],
   "source": [
    "y_predicited = linear_regression_model.predict(x_test)"
   ]
  },
  {
   "cell_type": "code",
   "execution_count": 167,
   "id": "fa855ffb",
   "metadata": {},
   "outputs": [
    {
     "data": {
      "text/plain": [
       "<matplotlib.collections.PathCollection at 0x22ecd10d4d0>"
      ]
     },
     "execution_count": 167,
     "metadata": {},
     "output_type": "execute_result"
    },
    {
     "data": {
      "image/png": "[encoded data removed]",
      "text/plain": [
       "<Figure size 640x480 with 1 Axes>"
      ]
     },
     "metadata": {},
     "output_type": "display_data"
    }
   ],
   "source": [
    "plt.scatter(y_test, y_predicited, alpha=0.4)"
   ]
  },
  {
   "cell_type": "code",
   "execution_count": null,
   "id": "c8a8199f",
   "metadata": {},
   "outputs": [],
   "source": []
  },
  {
   "cell_type": "code",
   "execution_count": null,
   "id": "ae1cc3c3",
   "metadata": {},
   "outputs": [],
   "source": []
  },
  {
   "cell_type": "code",
   "execution_count": null,
   "id": "d9ef3457",
   "metadata": {},
   "outputs": [],
   "source": []
  },
  {
   "cell_type": "code",
   "execution_count": null,
   "id": "0617891c",
   "metadata": {},
   "outputs": [],
   "source": []
  },
  {
   "cell_type": "code",
   "execution_count": null,
   "id": "312d9193",
   "metadata": {},
   "outputs": [],
   "source": []
  },
  {
   "cell_type": "code",
   "execution_count": null,
   "id": "9d9ddd29",
   "metadata": {},
   "outputs": [],
   "source": []
  },
  {
   "cell_type": "code",
   "execution_count": null,
   "id": "6aa87705",
   "metadata": {},
   "outputs": [],
   "source": []
  },
  {
   "cell_type": "code",
   "execution_count": null,
   "id": "00616641",
   "metadata": {},
   "outputs": [],
   "source": []
  },
  {
   "cell_type": "code",
   "execution_count": null,
   "id": "205ccf5b",
   "metadata": {},
   "outputs": [],
   "source": []
  },
  {
   "cell_type": "code",
   "execution_count": null,
   "id": "4be2c326",
   "metadata": {},
   "outputs": [],
   "source": []
  },
  {
   "cell_type": "code",
   "execution_count": null,
   "id": "20b0cbb9",
   "metadata": {},
   "outputs": [],
   "source": []
  },
  {
   "cell_type": "code",
   "execution_count": null,
   "id": "5b048ef9",
   "metadata": {},
   "outputs": [],
   "source": []
  }
 ],
 "metadata": {
  "kernelspec": {
   "display_name": "Python 3 (ipykernel)",
   "language": "python",
   "name": "python3"
  },
  "language_info": {
   "codemirror_mode": {
    "name": "ipython",
    "version": 3
   },
   "file_extension": ".py",
   "mimetype": "text/x-python",
   "name": "python",
   "nbconvert_exporter": "python",
   "pygments_lexer": "ipython3",
   "version": "3.11.4"
  }
 },
 "nbformat": 4,
 "nbformat_minor": 5
}
